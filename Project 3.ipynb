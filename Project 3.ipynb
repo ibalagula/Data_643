{
 "cells": [
  {
   "cell_type": "markdown",
   "metadata": {},
   "source": [
    "# Igor Balagula\n",
    "# Project 3"
   ]
  },
  {
   "cell_type": "markdown",
   "metadata": {},
   "source": [
    "The purpose of this project is to gain an understanding of the singular value decomposition technique and compare predictions obtains via SVD vs other methods."
   ]
  },
  {
   "cell_type": "code",
   "execution_count": 153,
   "metadata": {
    "collapsed": true
   },
   "outputs": [],
   "source": [
    "import numpy as np\n",
    "import pandas as pd\n",
    "from sklearn import cross_validation as cv\n",
    "from sklearn.metrics.pairwise import pairwise_distances\n",
    "from sklearn.metrics import mean_squared_error\n",
    "from math import sqrt\n",
    "import scipy.sparse as sp\n",
    "from scipy.sparse.linalg import svds"
   ]
  },
  {
   "cell_type": "code",
   "execution_count": 154,
   "metadata": {
    "collapsed": true
   },
   "outputs": [],
   "source": [
    "# Source code of \"Predict\" and \"rmse\" functions credit: \n",
    "# https://github.com/ongxuanhong/data-science-works/blob/master/python/recommender/song_recommender.py\n",
    "\n",
    "def predict(ratings, similarity, type='user'):\n",
    "    if type == 'user':\n",
    "        mean_user_rating = ratings.mean(axis=1)\n",
    "        ratings_diff = (ratings - mean_user_rating[:, np.newaxis])\n",
    "        pred = mean_user_rating[:, np.newaxis] + similarity.dot(ratings_diff) / np.array([np.abs(similarity).sum(axis=1)]).T\n",
    "    elif type == 'item':\n",
    "        pred = ratings.dot(similarity) / np.array([np.abs(similarity).sum(axis=1)])\n",
    "    return pred\n",
    "def rmse(prediction, ground_truth):\n",
    "    prediction = prediction[ground_truth.nonzero()].flatten()\n",
    "    ground_truth = ground_truth[ground_truth.nonzero()].flatten()\n",
    "    return sqrt(mean_squared_error(prediction, ground_truth))"
   ]
  },
  {
   "cell_type": "markdown",
   "metadata": {},
   "source": [
    "We will use ratings data from the MovieLens dataset "
   ]
  },
  {
   "cell_type": "code",
   "execution_count": 155,
   "metadata": {
    "collapsed": false
   },
   "outputs": [
    {
     "name": "stdout",
     "output_type": "stream",
     "text": [
      "Dimentions of the dataset: 943 users and 1682 movies\n"
     ]
    }
   ],
   "source": [
    "header = ['userid', 'itemid', 'rating', 'timestamp']\n",
    "df = pd.read_csv('E:\\\\Igor\\\\CUNY\\\\DATA 643 - Recommender Systems\\\\Projects\\\\Project_03\\\\Data\\\\ratings_943_1682.data', sep='\\t', names=header)\n",
    "print 'Dimentions of the dataset: '+str(df.userid.unique().shape[0])+' users and '+str(df.itemid.unique().shape[0])+' movies'\n"
   ]
  },
  {
   "cell_type": "code",
   "execution_count": 156,
   "metadata": {
    "collapsed": false
   },
   "outputs": [
    {
     "name": "stdout",
     "output_type": "stream",
     "text": [
      "<bound method DataFrame.head of        userid  itemid  rating  timestamp\n",
      "0         196     242       3  881250949\n",
      "1         186     302       3  891717742\n",
      "2          22     377       1  878887116\n",
      "3         244      51       2  880606923\n",
      "4         166     346       1  886397596\n",
      "5         298     474       4  884182806\n",
      "6         115     265       2  881171488\n",
      "7         253     465       5  891628467\n",
      "8         305     451       3  886324817\n",
      "9           6      86       3  883603013\n",
      "10         62     257       2  879372434\n",
      "11        286    1014       5  879781125\n",
      "12        200     222       5  876042340\n",
      "13        210      40       3  891035994\n",
      "14        224      29       3  888104457\n",
      "15        303     785       3  879485318\n",
      "16        122     387       5  879270459\n",
      "17        194     274       2  879539794\n",
      "18        291    1042       4  874834944\n",
      "19        234    1184       2  892079237\n",
      "20        119     392       4  886176814\n",
      "21        167     486       4  892738452\n",
      "22        299     144       4  877881320\n",
      "23        291     118       2  874833878\n",
      "24        308       1       4  887736532\n",
      "25         95     546       2  879196566\n",
      "26         38      95       5  892430094\n",
      "27        102     768       2  883748450\n",
      "28         63     277       4  875747401\n",
      "29        160     234       5  876861185\n",
      "...       ...     ...     ...        ...\n",
      "99970     449     120       1  879959573\n",
      "99971     661     762       2  876037121\n",
      "99972     721     874       3  877137447\n",
      "99973     821     151       4  874792889\n",
      "99974     764     596       3  876243046\n",
      "99975     537     443       3  886031752\n",
      "99976     618     628       2  891308019\n",
      "99977     487     291       3  883445079\n",
      "99978     113     975       5  875936424\n",
      "99979     943     391       2  888640291\n",
      "99980     864     685       4  888891900\n",
      "99981     750     323       3  879445877\n",
      "99982     279      64       1  875308510\n",
      "99983     646     750       3  888528902\n",
      "99984     654     370       2  887863914\n",
      "99985     617     582       4  883789294\n",
      "99986     913     690       3  880824288\n",
      "99987     660     229       2  891406212\n",
      "99988     421     498       4  892241344\n",
      "99989     495    1091       4  888637503\n",
      "99990     806     421       4  882388897\n",
      "99991     676     538       4  892685437\n",
      "99992     721     262       3  877137285\n",
      "99993     913     209       2  881367150\n",
      "99994     378      78       3  880056976\n",
      "99995     880     476       3  880175444\n",
      "99996     716     204       5  879795543\n",
      "99997     276    1090       1  874795795\n",
      "99998      13     225       2  882399156\n",
      "99999      12     203       3  879959583\n",
      "\n",
      "[100000 rows x 4 columns]>\n"
     ]
    }
   ],
   "source": [
    "print (df.head)"
   ]
  },
  {
   "cell_type": "markdown",
   "metadata": {},
   "source": [
    "Split our dataset into 75% training set and 25% test set"
   ]
  },
  {
   "cell_type": "code",
   "execution_count": 157,
   "metadata": {
    "collapsed": true
   },
   "outputs": [],
   "source": [
    "train_df, test_df = cv.train_test_split(df, test_size=0.25)"
   ]
  },
  {
   "cell_type": "markdown",
   "metadata": {},
   "source": [
    "Create training matrix, rows are users, columns are movies "
   ]
  },
  {
   "cell_type": "code",
   "execution_count": 158,
   "metadata": {
    "collapsed": true
   },
   "outputs": [],
   "source": [
    "train = np.zeros((943, 1682))\n",
    "for line in train_df.itertuples():\n",
    "    train[line[1]-1, line[2]-1] = line[3]"
   ]
  },
  {
   "cell_type": "markdown",
   "metadata": {},
   "source": [
    "Create testing matrix, rows are users, columns are movies "
   ]
  },
  {
   "cell_type": "code",
   "execution_count": 159,
   "metadata": {
    "collapsed": true
   },
   "outputs": [],
   "source": [
    "test = np.zeros((943, 1682))\n",
    "for line in test_df.itertuples():\n",
    "    test[line[1]-1, line[2]-1] = line[3]"
   ]
  },
  {
   "cell_type": "code",
   "execution_count": 160,
   "metadata": {
    "collapsed": false
   },
   "outputs": [
    {
     "name": "stdout",
     "output_type": "stream",
     "text": [
      "[[ 5.  3.  4. ...,  0.  0.  0.]\n",
      " [ 0.  0.  0. ...,  0.  0.  0.]\n",
      " [ 0.  0.  0. ...,  0.  0.  0.]\n",
      " ..., \n",
      " [ 0.  0.  0. ...,  0.  0.  0.]\n",
      " [ 0.  0.  0. ...,  0.  0.  0.]\n",
      " [ 0.  5.  0. ...,  0.  0.  0.]]\n"
     ]
    }
   ],
   "source": [
    "print (train)"
   ]
  },
  {
   "cell_type": "markdown",
   "metadata": {},
   "source": [
    "We will use cosine method to calculate distances between users in the training matrix"
   ]
  },
  {
   "cell_type": "code",
   "execution_count": 161,
   "metadata": {
    "collapsed": false
   },
   "outputs": [],
   "source": [
    "user_dist = pairwise_distances(train, metric='cosine')"
   ]
  },
  {
   "cell_type": "markdown",
   "metadata": {},
   "source": [
    "Generate predictive models for user-based collaborative filtering techniques"
   ]
  },
  {
   "cell_type": "code",
   "execution_count": 162,
   "metadata": {
    "collapsed": true
   },
   "outputs": [],
   "source": [
    "user_pred = predict(train, user_dist, type='user')"
   ]
  },
  {
   "cell_type": "code",
   "execution_count": 163,
   "metadata": {
    "collapsed": false
   },
   "outputs": [
    {
     "name": "stdout",
     "output_type": "stream",
     "text": [
      "User-based cosine-similarity method RMSE: 3.11489515319\n"
     ]
    }
   ],
   "source": [
    "print 'User-based cosine-similarity method RMSE: ' + str(rmse(user_pred, test))"
   ]
  },
  {
   "cell_type": "markdown",
   "metadata": {},
   "source": [
    "Now we will use the SVD method. The SVD reduces the dimensionality of our dataset and captures the \"features\" that we can use to compare users. Parameter k is the number of singular values/features we want to retain"
   ]
  },
  {
   "cell_type": "code",
   "execution_count": 164,
   "metadata": {
    "collapsed": false
   },
   "outputs": [],
   "source": [
    "\n",
    "u, s, vt = svds(train, k = 10)\n"
   ]
  },
  {
   "cell_type": "markdown",
   "metadata": {},
   "source": [
    "After this decomposition we get u, s and vt. They have (number of users, k), (k, ) and (k, number of movies) shapes respectively.\n",
    "Matrix u can be interpreted as user feature matrix, matrix vt as movie feature matrix and vector s represents singular values of the original matrix. Let's see how u,s and vt look like:"
   ]
  },
  {
   "cell_type": "code",
   "execution_count": 165,
   "metadata": {
    "collapsed": false
   },
   "outputs": [
    {
     "data": {
      "text/plain": [
       "array([[-0.01364545, -0.06902873,  0.0402673 , ...,  0.00341819,\n",
       "        -0.00344214,  0.06878603],\n",
       "       [ 0.02153813, -0.03270731,  0.01214677, ..., -0.05160203,\n",
       "        -0.04863139,  0.01469435],\n",
       "       [ 0.01105923,  0.02334423,  0.00629211, ..., -0.02477766,\n",
       "        -0.02525216,  0.00629738],\n",
       "       ..., \n",
       "       [ 0.00074534,  0.00634517, -0.0124235 , ..., -0.0085306 ,\n",
       "        -0.02434453,  0.00665855],\n",
       "       [ 0.04213112, -0.0028665 ,  0.02357201, ..., -0.02321055,\n",
       "         0.00415819,  0.02533531],\n",
       "       [ 0.04538209, -0.02871444,  0.04151322, ...,  0.07234217,\n",
       "        -0.00234888,  0.04229639]])"
      ]
     },
     "execution_count": 165,
     "metadata": {},
     "output_type": "execute_result"
    }
   ],
   "source": [
    "u"
   ]
  },
  {
   "cell_type": "code",
   "execution_count": 166,
   "metadata": {
    "collapsed": false
   },
   "outputs": [
    {
     "data": {
      "text/plain": [
       "array([  82.90786394,   87.89137894,   99.36099134,  101.7108859 ,\n",
       "        115.12407029,  122.21470942,  123.71478626,  167.73570397,\n",
       "        187.25802917,  481.73297612])"
      ]
     },
     "execution_count": 166,
     "metadata": {},
     "output_type": "execute_result"
    }
   ],
   "source": [
    "s"
   ]
  },
  {
   "cell_type": "code",
   "execution_count": 167,
   "metadata": {
    "collapsed": false
   },
   "outputs": [
    {
     "data": {
      "text/plain": [
       "array([[ -2.45354782e-03,   1.59058680e-02,   2.98187309e-02, ...,\n",
       "          4.20551640e-05,  -1.47186940e-03,  -2.51527945e-03],\n",
       "       [  6.49952014e-02,  -5.97849163e-02,   2.24021842e-02, ...,\n",
       "          8.79436671e-04,  -2.73906965e-03,  -1.41777666e-03],\n",
       "       [ -1.75130509e-02,   5.67452654e-03,  -1.65840022e-02, ...,\n",
       "          1.57731636e-04,   2.76739142e-04,   9.39407982e-04],\n",
       "       ..., \n",
       "       [  1.91589896e-03,   5.59998688e-02,   5.43945548e-03, ...,\n",
       "         -6.06483952e-04,   5.51023228e-04,   3.72943749e-04],\n",
       "       [ -9.90379251e-02,  -2.17641008e-03,  -3.26974206e-02, ...,\n",
       "         -5.79558052e-04,   5.89535282e-05,   4.13665833e-04],\n",
       "       [  9.35021376e-02,   3.27287050e-02,   1.98053094e-02, ...,\n",
       "          4.11272764e-05,   4.51157978e-04,   4.11299314e-04]])"
      ]
     },
     "execution_count": 167,
     "metadata": {},
     "output_type": "execute_result"
    }
   ],
   "source": [
    "vt"
   ]
  },
  {
   "cell_type": "markdown",
   "metadata": {},
   "source": [
    "We need to convert vector s into a diagonal matrix."
   ]
  },
  {
   "cell_type": "code",
   "execution_count": 168,
   "metadata": {
    "collapsed": true
   },
   "outputs": [],
   "source": [
    "s_diag=np.diag(s)"
   ]
  },
  {
   "cell_type": "markdown",
   "metadata": {},
   "source": [
    "Now we can obtain the prediction matrix by calculating dot-product of SVD components."
   ]
  },
  {
   "cell_type": "code",
   "execution_count": 169,
   "metadata": {
    "collapsed": true
   },
   "outputs": [],
   "source": [
    "SVD_pred = np.dot(np.dot(u, s_diag), vt)"
   ]
  },
  {
   "cell_type": "markdown",
   "metadata": {},
   "source": [
    "Once we use the SVD to get SVD_pred, we can predict a rating by simply looking up the entry for the appropriate user/movie pair in the matrix SVD_pred"
   ]
  },
  {
   "cell_type": "code",
   "execution_count": 170,
   "metadata": {
    "collapsed": false
   },
   "outputs": [
    {
     "name": "stdout",
     "output_type": "stream",
     "text": [
      "SVD method RMSE for k=10: 2.6692919561\n"
     ]
    }
   ],
   "source": [
    "print 'SVD method RMSE for k=10: ' + str(rmse(SVD_pred, test))"
   ]
  },
  {
   "cell_type": "markdown",
   "metadata": {},
   "source": [
    "We can see that if we apply SVD method to user-based collaborative filtering we can get a better accuracy of predictions as compared to method based on cosine-similarity."
   ]
  },
  {
   "cell_type": "markdown",
   "metadata": {},
   "source": [
    "We will try SVD method with different values of k "
   ]
  },
  {
   "cell_type": "code",
   "execution_count": 171,
   "metadata": {
    "collapsed": false
   },
   "outputs": [
    {
     "name": "stdout",
     "output_type": "stream",
     "text": [
      "SVD method RMSE for k=20: 2.71123108372\n"
     ]
    }
   ],
   "source": [
    "u, s, vt = svds(train, k = 20)\n",
    "s_diag=np.diag(s)\n",
    "SVD_pred = np.dot(np.dot(u, s_diag), vt)\n",
    "print 'SVD method RMSE for k=20: ' + str(rmse(SVD_pred, test))"
   ]
  },
  {
   "cell_type": "code",
   "execution_count": 172,
   "metadata": {
    "collapsed": false,
    "scrolled": true
   },
   "outputs": [
    {
     "name": "stdout",
     "output_type": "stream",
     "text": [
      "SVD method RMSE for k=50: 2.94352839031\n"
     ]
    }
   ],
   "source": [
    "u, s, vt = svds(train, k = 50)\n",
    "s_diag=np.diag(s)\n",
    "SVD_pred = np.dot(np.dot(u, s_diag), vt)\n",
    "print 'SVD method RMSE for k=50: ' + str(rmse(SVD_pred, test))"
   ]
  },
  {
   "cell_type": "code",
   "execution_count": 173,
   "metadata": {
    "collapsed": false
   },
   "outputs": [
    {
     "name": "stdout",
     "output_type": "stream",
     "text": [
      "SVD method RMSE for k=100: 3.21190696035\n"
     ]
    }
   ],
   "source": [
    "u, s, vt = svds(train, k = 100)\n",
    "s_diag=np.diag(s)\n",
    "SVD_pred = np.dot(np.dot(u, s_diag), vt)\n",
    "print 'SVD method RMSE for k=100: ' + str(rmse(SVD_pred, test))"
   ]
  },
  {
   "cell_type": "markdown",
   "metadata": {},
   "source": [
    "We can see that if we apply SVD method to user-based collaborative filtering we can get a better accuracy of predictions as compared to method based on cosine-similarity. Values of k between 10 and 20 provide the lowest RMSE. I need to read more about how to choose optimal k and evaluate models based on different values of k parameter."
   ]
  }
 ],
 "metadata": {
  "kernelspec": {
   "display_name": "Python 2",
   "language": "python",
   "name": "python2"
  },
  "language_info": {
   "codemirror_mode": {
    "name": "ipython",
    "version": 2
   },
   "file_extension": ".py",
   "mimetype": "text/x-python",
   "name": "python",
   "nbconvert_exporter": "python",
   "pygments_lexer": "ipython2",
   "version": "2.7.12"
  }
 },
 "nbformat": 4,
 "nbformat_minor": 0
}
